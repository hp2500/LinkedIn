{
 "cells": [
  {
   "cell_type": "markdown",
   "metadata": {},
   "source": [
    "### Import modules"
   ]
  },
  {
   "cell_type": "code",
   "execution_count": 161,
   "metadata": {},
   "outputs": [],
   "source": [
    "import spacy\n",
    "import pandas as pd\n",
    "import os\n",
    "import numpy as np "
   ]
  },
  {
   "cell_type": "code",
   "execution_count": 2,
   "metadata": {},
   "outputs": [],
   "source": [
    "word_embedding = spacy.load('en_core_web_lg')\n"
   ]
  },
  {
   "cell_type": "markdown",
   "metadata": {},
   "source": [
    "### Create UDFs"
   ]
  },
  {
   "cell_type": "code",
   "execution_count": 3,
   "metadata": {},
   "outputs": [],
   "source": [
    "# create function to transform documents into word vectors\n",
    "def create_embedding_spacy(df):\n",
    "    \n",
    "    doc_vectors = pd.DataFrame([])\n",
    "    \n",
    "    for i in df:\n",
    "        \n",
    "        # process a document\n",
    "        doc_spacey = word_embedding(i.lower())\n",
    "        \n",
    "        # get mean vector for document\n",
    "        vector = pd.Series(doc_spacey.vector)\n",
    "        \n",
    "        # append to data frame\n",
    "        doc_vectors = doc_vectors.append(vector, ignore_index=True)\n",
    "        \n",
    "    doc_vectors = doc_vectors.astype(float)\n",
    "    \n",
    "    doc_vectors.index = df.index\n",
    "    \n",
    "    return(doc_vectors)"
   ]
  },
  {
   "cell_type": "markdown",
   "metadata": {},
   "source": [
    "### Generate employee word vectors"
   ]
  },
  {
   "cell_type": "code",
   "execution_count": 11,
   "metadata": {},
   "outputs": [],
   "source": [
    "dir_path = os.path.normpath(r'C:\\Users\\heinr\\OneDrive\\Desktop\\LARGE DATA\\LinkedIn\\company_level_individual_profiles')\n",
    "dir_path_we = os.path.normpath(r'C:\\Users\\heinr\\OneDrive\\Desktop\\LARGE DATA\\LinkedIn\\company_level_individual_profiles_word_embeddings')"
   ]
  },
  {
   "cell_type": "code",
   "execution_count": null,
   "metadata": {},
   "outputs": [],
   "source": [
    "for file in os.listdir(dir_path):\n",
    "    \n",
    "    try: \n",
    "        \n",
    "        file_path = os.path.join(dir_path, file)\n",
    "\n",
    "        df_temp = pd.read_csv(file_path)\n",
    "\n",
    "        word_embeddings = create_embedding_spacy(df_temp.person_summary)\n",
    "        \n",
    "        # word_embeddings = word_embeddings.add_prefix('dim_')\n",
    "\n",
    "        df_out = pd.concat([df_temp, word_embeddings], axis=1)\n",
    "\n",
    "        df_out.to_csv(os.path.join(dir_path_we, file))\n",
    "        \n",
    "        print(file, end=' ')\n",
    "                \n",
    "        \n",
    "    except Exception as e:\n",
    "        \n",
    "        print(e)\n",
    "\n",
    "    "
   ]
  }
 ],
 "metadata": {
  "kernelspec": {
   "display_name": "Python 3",
   "language": "python",
   "name": "python3"
  },
  "language_info": {
   "codemirror_mode": {
    "name": "ipython",
    "version": 3
   },
   "file_extension": ".py",
   "mimetype": "text/x-python",
   "name": "python",
   "nbconvert_exporter": "python",
   "pygments_lexer": "ipython3",
   "version": "3.8.5"
  }
 },
 "nbformat": 4,
 "nbformat_minor": 4
}
